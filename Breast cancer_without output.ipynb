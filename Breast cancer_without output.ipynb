{
 "cells": [
  {
   "cell_type": "markdown",
   "id": "f8f79092",
   "metadata": {},
   "source": [
    "# Importing Dependencies"
   ]
  },
  {
   "cell_type": "code",
   "execution_count": null,
   "id": "b00c5d44",
   "metadata": {},
   "outputs": [],
   "source": [
    "import numpy as np\n",
    "import pandas as pd\n",
    "from sklearn.preprocessing import LabelEncoder\n",
    "import matplotlib.pyplot as plt\n",
    "import seaborn as sns\n",
    "from sklearn.preprocessing import StandardScaler\n",
    "from sklearn.model_selection import train_test_split\n",
    "from sklearn import svm\n",
    "from sklearn.linear_model import LogisticRegression\n",
    "from sklearn.ensemble import RandomForestClassifier\n",
    "from sklearn import tree\n",
    "from sklearn.neighbors import KNeighborsClassifier\n",
    "from sklearn.naive_bayes import GaussianNB\n",
    "from sklearn.metrics import accuracy_score\n",
    "from sklearn.metrics import accuracy_score , classification_report,ConfusionMatrixDisplay,precision_score,recall_score, f1_score,roc_auc_score,roc_curve, balanced_accuracy_score\n",
    "from sklearn.model_selection import GridSearchCV"
   ]
  },
  {
   "cell_type": "markdown",
   "id": "53a087fc",
   "metadata": {},
   "source": [
    "# Data Collection  "
   ]
  },
  {
   "cell_type": "code",
   "execution_count": null,
   "id": "c7dfc826",
   "metadata": {},
   "outputs": [],
   "source": [
    "#Loading the breast cancer dataset from csv file to pandas dataframe\n",
    "breast_cancer_data= pd.read_csv(\"Breast_cancer_data.csv\")"
   ]
  },
  {
   "cell_type": "markdown",
   "id": "2e6b31d8",
   "metadata": {},
   "source": [
    "# Data pre-processing"
   ]
  },
  {
   "cell_type": "code",
   "execution_count": null,
   "id": "ebeca04f",
   "metadata": {},
   "outputs": [],
   "source": [
    "breast_cancer_data.keys()"
   ]
  },
  {
   "cell_type": "code",
   "execution_count": null,
   "id": "1ff3a482",
   "metadata": {},
   "outputs": [],
   "source": [
    "#printing the first five rows of the dataframe\n",
    "breast_cancer_data.head()"
   ]
  },
  {
   "cell_type": "code",
   "execution_count": null,
   "id": "23e9d98b",
   "metadata": {},
   "outputs": [],
   "source": [
    "breast_cancer_data.shape"
   ]
  },
  {
   "cell_type": "code",
   "execution_count": null,
   "id": "76aa8e9a",
   "metadata": {
    "scrolled": true
   },
   "outputs": [],
   "source": [
    "#CHecking the data types\n",
    "breast_cancer_data.info()"
   ]
  },
  {
   "cell_type": "code",
   "execution_count": null,
   "id": "552403cc",
   "metadata": {},
   "outputs": [],
   "source": [
    "#Removing the id column \n",
    "breast_cancer_data.drop(columns='id',axis=1, inplace=True)"
   ]
  },
  {
   "cell_type": "code",
   "execution_count": null,
   "id": "fc74b9ea",
   "metadata": {},
   "outputs": [],
   "source": [
    "# Checking for null values\n",
    "breast_cancer_data.isnull().sum()"
   ]
  },
  {
   "cell_type": "code",
   "execution_count": null,
   "id": "36947a66",
   "metadata": {},
   "outputs": [],
   "source": [
    "# Checking for missing values\n",
    "breast_cancer_data.isna().sum()"
   ]
  },
  {
   "cell_type": "code",
   "execution_count": null,
   "id": "ec3f009a",
   "metadata": {},
   "outputs": [],
   "source": [
    "# Statistical summary of the data- Descriptive Statistics\n",
    "breast_cancer_data.describe()"
   ]
  },
  {
   "cell_type": "raw",
   "id": "628385e0",
   "metadata": {},
   "source": [
    "Checking the distribution of target variable"
   ]
  },
  {
   "cell_type": "code",
   "execution_count": null,
   "id": "e99b1b4b",
   "metadata": {},
   "outputs": [],
   "source": [
    "breast_cancer_data['diagnosis'].value_counts()"
   ]
  },
  {
   "cell_type": "markdown",
   "id": "8eaa289d",
   "metadata": {},
   "source": [
    "# Exploratory Data Analysis"
   ]
  },
  {
   "cell_type": "code",
   "execution_count": null,
   "id": "4f86b8d0",
   "metadata": {},
   "outputs": [],
   "source": [
    "#Encoding the targeted column\n",
    "label_encode= LabelEncoder()"
   ]
  },
  {
   "cell_type": "code",
   "execution_count": null,
   "id": "c08481eb",
   "metadata": {},
   "outputs": [],
   "source": [
    "labels= label_encode.fit_transform(breast_cancer_data['diagnosis'])"
   ]
  },
  {
   "cell_type": "code",
   "execution_count": null,
   "id": "c2f0c25c",
   "metadata": {},
   "outputs": [],
   "source": [
    "breast_cancer_data['target']=labels"
   ]
  },
  {
   "cell_type": "code",
   "execution_count": null,
   "id": "74142253",
   "metadata": {},
   "outputs": [],
   "source": [
    "breast_cancer_data.drop(columns='diagnosis', axis=1, inplace= True)"
   ]
  },
  {
   "cell_type": "code",
   "execution_count": null,
   "id": "b42eca41",
   "metadata": {},
   "outputs": [],
   "source": [
    "#Diagnosis column removed\n",
    "breast_cancer_data.head()"
   ]
  },
  {
   "cell_type": "code",
   "execution_count": null,
   "id": "be733a05",
   "metadata": {},
   "outputs": [],
   "source": [
    "breast_cancer_data['target'].value_counts()"
   ]
  },
  {
   "cell_type": "code",
   "execution_count": null,
   "id": "2bb1dc22",
   "metadata": {
    "scrolled": true
   },
   "outputs": [],
   "source": [
    "values={}\n",
    "for column in breast_cancer_data.columns:\n",
    "    values[column]= breast_cancer_data[column].value_counts().shape[0]\n",
    "pd.DataFrame(values, index=['Unique values in the dataset']).transpose()"
   ]
  },
  {
   "cell_type": "markdown",
   "id": "da4a28bc",
   "metadata": {},
   "source": [
    "# Data visualisation"
   ]
  },
  {
   "cell_type": "code",
   "execution_count": null,
   "id": "f4fc7bde",
   "metadata": {},
   "outputs": [],
   "source": []
  },
  {
   "cell_type": "code",
   "execution_count": null,
   "id": "00c76d2e",
   "metadata": {
    "scrolled": true
   },
   "outputs": [],
   "source": [
    "#Countplot for the target column for checking the distribution of target\n",
    "colors = ['skyblue', 'darkkhaki']\n",
    "sns.countplot(x='target',data=breast_cancer_data, palette=colors)\n",
    "#Benign=0\n",
    "#Malignant=1"
   ]
  },
  {
   "cell_type": "markdown",
   "id": "802c8403",
   "metadata": {},
   "source": [
    "\n"
   ]
  },
  {
   "cell_type": "raw",
   "id": "961b4d70",
   "metadata": {},
   "source": [
    "There is a slight imbalance in the data. but it is fine in this case"
   ]
  },
  {
   "cell_type": "code",
   "execution_count": null,
   "id": "3c93c6d4",
   "metadata": {},
   "outputs": [],
   "source": [
    "#creating a for loop to get the distribution plot for all columns\n",
    "\n",
    "for column in breast_cancer_data:\n",
    "    sns.displot(x=column, data= breast_cancer_data)"
   ]
  },
  {
   "cell_type": "code",
   "execution_count": null,
   "id": "ddd97181",
   "metadata": {},
   "outputs": [],
   "source": []
  },
  {
   "cell_type": "code",
   "execution_count": null,
   "id": "73573e85",
   "metadata": {},
   "outputs": [],
   "source": [
    "#Correlation of other features with breast cancer"
   ]
  },
  {
   "cell_type": "code",
   "execution_count": null,
   "id": "074013cb",
   "metadata": {},
   "outputs": [],
   "source": [
    "breast_cancer_data.drop('target', axis=1).corrwith(breast_cancer_data.target).plot(kind='bar',grid=True, figsize=(10,6), title=\"Correlation with breast cancer\", color='skyblue');"
   ]
  },
  {
   "cell_type": "code",
   "execution_count": null,
   "id": "6ac8479b",
   "metadata": {},
   "outputs": [],
   "source": [
    "#Pairplot\n",
    "sns.pairplot(breast_cancer_data)\n",
    "plt.show()"
   ]
  },
  {
   "cell_type": "raw",
   "id": "48b089a9",
   "metadata": {},
   "source": [
    "Because of the increrase number of dimension pairplot is not completely readable So building a scatter plot using 2 variables"
   ]
  },
  {
   "cell_type": "code",
   "execution_count": null,
   "id": "69651921",
   "metadata": {},
   "outputs": [],
   "source": [
    "#Scatter plot of first 2 columns\n",
    "#Select first column of the dataframe as a series\n",
    "first_column= breast_cancer_data.iloc[:,0]\n",
    "\n",
    "#Select second column of the dataframe as a series\n",
    "second_column= breast_cancer_data.iloc[:,1]"
   ]
  },
  {
   "cell_type": "code",
   "execution_count": null,
   "id": "c1898061",
   "metadata": {},
   "outputs": [],
   "source": [
    "print(first_column)\n",
    "print('.....................................')\n",
    "print(second_column)"
   ]
  },
  {
   "cell_type": "code",
   "execution_count": null,
   "id": "09b5ba1a",
   "metadata": {},
   "outputs": [],
   "source": [
    "z = np.random.rand(1138)\n",
    "\n",
    "colors = plt.cm.viridis(z)  # Convert z-coordinates to color values using a colormap\n",
    "\n",
    "\n",
    "plt.scatter(x=first_column,y=second_column,c=colors)\n",
    "# Set the x-axis color to red\n",
    "plt.xlabel(\"radius_mean\", color='red')\n",
    "\n",
    "# Set the y-axis color to blue\n",
    "plt.ylabel(\"texture_mean\", color='blue')\n",
    "\n",
    "# Add a title\n",
    "plt.title(\"Biplot of two elements\")\n",
    "\n",
    "# Rotate the x-axis labels by 45 degrees\n",
    "plt.xticks(rotation=45)\n",
    "\n",
    "# Show the plot\n",
    "plt.show()"
   ]
  },
  {
   "cell_type": "code",
   "execution_count": null,
   "id": "b82ff9cd",
   "metadata": {},
   "outputs": [],
   "source": [
    "#Outliers Detection\n",
    "for column in breast_cancer_data:\n",
    "    plt.figure()\n",
    "    breast_cancer_data.boxplot([column])"
   ]
  },
  {
   "cell_type": "raw",
   "id": "3f903867",
   "metadata": {},
   "source": [
    " As we can see here that most of the  skewed features have outliers. so replace them by mean value of that particular outliers"
   ]
  },
  {
   "cell_type": "code",
   "execution_count": null,
   "id": "e6d80457",
   "metadata": {},
   "outputs": [],
   "source": [
    "#Correlation Matrix\n",
    "correlation_matrix= breast_cancer_data.corr()"
   ]
  },
  {
   "cell_type": "code",
   "execution_count": null,
   "id": "df1c56c6",
   "metadata": {},
   "outputs": [],
   "source": [
    "#construct a heat map to visualize the correlation matrix\n",
    "\n",
    "plt.figure(figsize=(20,20))\n",
    "sns.heatmap(correlation_matrix, cbar=True, fmt='.1f',annot= True, cmap= 'Blues')\n",
    "plt.savefig(\"correlation heat map\")"
   ]
  },
  {
   "cell_type": "code",
   "execution_count": null,
   "id": "7ad0429f",
   "metadata": {},
   "outputs": [],
   "source": [
    "#multicollinearity problem"
   ]
  },
  {
   "cell_type": "code",
   "execution_count": null,
   "id": "c9761d32",
   "metadata": {},
   "outputs": [],
   "source": [
    "#Grouping the data based on the target\n",
    "breast_cancer_data.groupby('target').mean()"
   ]
  },
  {
   "cell_type": "code",
   "execution_count": null,
   "id": "9d58fd8d",
   "metadata": {},
   "outputs": [],
   "source": [
    "#Separating the data and label\n",
    "\n",
    "#X =breast_cancer_data.drop(columns='target',axis=1)\n",
    "#Y = breast_cancer_data['target']\n",
    "Y = (breast_cancer_data['target']).astype(int)\n",
    "X = breast_cancer_data.loc[:, breast_cancer_data.columns != 'target']"
   ]
  },
  {
   "cell_type": "code",
   "execution_count": null,
   "id": "69daad52",
   "metadata": {},
   "outputs": [],
   "source": [
    "print(X)"
   ]
  },
  {
   "cell_type": "code",
   "execution_count": null,
   "id": "d7f24745",
   "metadata": {},
   "outputs": [],
   "source": [
    "print(Y)"
   ]
  },
  {
   "cell_type": "code",
   "execution_count": null,
   "id": "21232a5c",
   "metadata": {},
   "outputs": [],
   "source": [
    "from sklearn.ensemble import ExtraTreesClassifier\n",
    "model = ExtraTreesClassifier()\n",
    "model.fit(X,Y)\n",
    "print(model.feature_importances_) \n",
    "\n",
    "#plot graph of feature importances for better visualization\n",
    "feat_importances = pd.Series(model.feature_importances_, index=X.columns)\n",
    "plt.figure(figsize=(8,6))\n",
    "feat_importances.nlargest(6).plot(kind='barh',color='skyblue')\n",
    "plt.show()"
   ]
  },
  {
   "cell_type": "markdown",
   "id": "24188d97",
   "metadata": {},
   "source": [
    "# Data Standardization"
   ]
  },
  {
   "cell_type": "code",
   "execution_count": null,
   "id": "84bcbff8",
   "metadata": {},
   "outputs": [],
   "source": [
    "scalar= StandardScaler()"
   ]
  },
  {
   "cell_type": "code",
   "execution_count": null,
   "id": "e9311bcc",
   "metadata": {},
   "outputs": [],
   "source": [
    "scalar.fit(X)"
   ]
  },
  {
   "cell_type": "code",
   "execution_count": null,
   "id": "108d5e9f",
   "metadata": {},
   "outputs": [],
   "source": [
    "standardized_data= scalar.transform(X)"
   ]
  },
  {
   "cell_type": "code",
   "execution_count": null,
   "id": "150a3a46",
   "metadata": {},
   "outputs": [],
   "source": [
    "print(standardized_data)"
   ]
  },
  {
   "cell_type": "code",
   "execution_count": null,
   "id": "99d6bf4c",
   "metadata": {},
   "outputs": [],
   "source": [
    "X= standardized_data"
   ]
  },
  {
   "cell_type": "code",
   "execution_count": null,
   "id": "fa5c81f6",
   "metadata": {},
   "outputs": [],
   "source": [
    "Y=breast_cancer_data['target']"
   ]
  },
  {
   "cell_type": "markdown",
   "id": "127b106b",
   "metadata": {},
   "source": [
    "# Splitting into train data and test data"
   ]
  },
  {
   "cell_type": "code",
   "execution_count": null,
   "id": "924d8f3e",
   "metadata": {},
   "outputs": [],
   "source": [
    "X_train,X_test,Y_train,Y_test = train_test_split(X,Y,test_size= 0.2, stratify=Y,random_state=2)"
   ]
  },
  {
   "cell_type": "code",
   "execution_count": null,
   "id": "01f8d371",
   "metadata": {},
   "outputs": [],
   "source": [
    "print(X.shape,X_train.shape,X_test.shape)"
   ]
  },
  {
   "cell_type": "markdown",
   "id": "4666d3a7",
   "metadata": {},
   "source": [
    "# Model Fitting"
   ]
  },
  {
   "cell_type": "markdown",
   "id": "f9791c11",
   "metadata": {},
   "source": [
    "# Support Vector Machine"
   ]
  },
  {
   "cell_type": "code",
   "execution_count": null,
   "id": "fbba7653",
   "metadata": {},
   "outputs": [],
   "source": [
    "svc = svm.SVC()\n"
   ]
  },
  {
   "cell_type": "code",
   "execution_count": null,
   "id": "6fbabb74",
   "metadata": {},
   "outputs": [],
   "source": [
    "svc.fit(X_train, Y_train)\n"
   ]
  },
  {
   "cell_type": "code",
   "execution_count": null,
   "id": "457508de",
   "metadata": {},
   "outputs": [],
   "source": [
    "pred_svc = svc.predict(X_test)\n",
    "pred_svc"
   ]
  },
  {
   "cell_type": "code",
   "execution_count": null,
   "id": "ee6c33a2",
   "metadata": {},
   "outputs": [],
   "source": [
    "print(classification_report(Y_test, pred_svc))"
   ]
  },
  {
   "cell_type": "code",
   "execution_count": null,
   "id": "aa06f933",
   "metadata": {},
   "outputs": [],
   "source": [
    "# Calculate the accuracy score for the default SVC model\n",
    "accuracy_svc = accuracy_score(Y_test, pred_svc)\n",
    "print(\"Accuracy score for default SVC model:\", accuracy_svc)"
   ]
  },
  {
   "cell_type": "markdown",
   "id": "fff88c9d",
   "metadata": {},
   "source": [
    "# Turning for SVM"
   ]
  },
  {
   "cell_type": "code",
   "execution_count": null,
   "id": "9903ad87",
   "metadata": {},
   "outputs": [],
   "source": [
    "# defining parameter range\n",
    "param_grid = {'C': [0.1, 1, 10, 100],\n",
    "               'kernel': ['linear', 'poly', 'rbf'],\n",
    "               'gamma': [0.01, 0.1, 1.0]}\n",
    " \n",
    "gridsvm = GridSearchCV(svm.SVC(), param_grid, refit = True, verbose = 3)\n",
    "  \n",
    "# fitting the model for grid search\n",
    "gridsvm.fit(X_train, Y_train)"
   ]
  },
  {
   "cell_type": "code",
   "execution_count": null,
   "id": "26e0275e",
   "metadata": {},
   "outputs": [],
   "source": [
    "print(gridsvm.best_params_)"
   ]
  },
  {
   "cell_type": "code",
   "execution_count": null,
   "id": "73b53314",
   "metadata": {
    "scrolled": true
   },
   "outputs": [],
   "source": [
    "#Let's run our SVC again with the best parameters.\n",
    "svc2 = svm.SVC(C = 100, gamma =  0.01, kernel= 'rbf')\n",
    "svc2.fit(X_train, Y_train)\n",
    "pred_svc2 = svc2.predict(X_test)\n",
    "print(classification_report(Y_test, pred_svc2))"
   ]
  },
  {
   "cell_type": "code",
   "execution_count": null,
   "id": "7ad24149",
   "metadata": {},
   "outputs": [],
   "source": [
    "#confusion matrix\n",
    "import matplotlib.pyplot as plt\n",
    "from sklearn.metrics import confusion_matrix, ConfusionMatrixDisplay\n",
    "cm = confusion_matrix(Y_test, pred_svc2, labels=gridsvm.classes_)\n",
    "disp = ConfusionMatrixDisplay(confusion_matrix=cm,display_labels=gridsvm.classes_)\n",
    "fig = plt.figure(figsize=(5, 5))\n",
    "disp.plot(cmap=plt.cm.Blues) \n",
    "plt.grid(which='major')     #remove cell gridlines\n",
    "plt.gcf().set_size_inches(6, 6)   # Adjust the size of the plot\n",
    "plt.show()"
   ]
  },
  {
   "cell_type": "code",
   "execution_count": null,
   "id": "7ec29214",
   "metadata": {},
   "outputs": [],
   "source": [
    "# Calculate the accuracy score for the SVC model with the best parameters\n",
    "accuracy_svc2 = accuracy_score(Y_test, pred_svc2)\n",
    "print(\"Accuracy score for SVC model with best parameters:\", accuracy_svc2)"
   ]
  },
  {
   "cell_type": "code",
   "execution_count": null,
   "id": "dc8dcdcf",
   "metadata": {},
   "outputs": [],
   "source": [
    "svc2.score( X_test, Y_test)"
   ]
  },
  {
   "cell_type": "code",
   "execution_count": null,
   "id": "394b5f77",
   "metadata": {},
   "outputs": [],
   "source": [
    "# Calculate and store the metrics\n",
    "accuracy = accuracy_score(Y_test, pred_svc2)\n",
    "f1 = f1_score(Y_test, pred_svc2)\n",
    "precision = precision_score(Y_test, pred_svc2)\n",
    "recall = recall_score(Y_test, pred_svc2)\n",
    "\n",
    "# Create a DataFrame to store the metrics\n",
    "metrics_df = pd.DataFrame({\n",
    "    'Metric': ['Accuracy', 'F1-Score', 'Precision', 'Recall'],\n",
    "    'Value': [accuracy*100, f1*100, precision*100, recall*100]\n",
    "})\n",
    "\n",
    "\n",
    "# Create a bar chart to visualize the metrics\n",
    "plt.figure(figsize=(8, 5))\n",
    "plt.bar(metrics_df['Metric'], metrics_df['Value'],color='skyblue')\n",
    "plt.xlabel('Metric')\n",
    "plt.ylabel('Value')\n",
    "plt.title('Evaluation Metrics for SVM')\n",
    "plt.xticks(rotation=45)\n",
    "plt.tight_layout()\n",
    "plt.show()\n"
   ]
  },
  {
   "cell_type": "markdown",
   "id": "a5703cf1",
   "metadata": {},
   "source": [
    "# Logistic regresssion"
   ]
  },
  {
   "cell_type": "code",
   "execution_count": null,
   "id": "9dc11585",
   "metadata": {},
   "outputs": [],
   "source": [
    "log= LogisticRegression()"
   ]
  },
  {
   "cell_type": "code",
   "execution_count": null,
   "id": "d636fe41",
   "metadata": {},
   "outputs": [],
   "source": [
    "log.fit(X_train,Y_train)"
   ]
  },
  {
   "cell_type": "code",
   "execution_count": null,
   "id": "41db8829",
   "metadata": {},
   "outputs": [],
   "source": [
    "pred_log = log.predict(X_test)\n",
    "pred_log\n",
    "\n"
   ]
  },
  {
   "cell_type": "code",
   "execution_count": null,
   "id": "d15a8b99",
   "metadata": {},
   "outputs": [],
   "source": [
    "print(classification_report(Y_test, pred_log))"
   ]
  },
  {
   "cell_type": "code",
   "execution_count": null,
   "id": "9f9595d4",
   "metadata": {},
   "outputs": [],
   "source": [
    "# Calculate the accuracy score for the default Logistic regresssion model\n",
    "accuracy_log = accuracy_score(Y_test, pred_log)\n",
    "print(\"Accuracy score for default Logistic regresssion model:\", accuracy_log)"
   ]
  },
  {
   "cell_type": "markdown",
   "id": "41dbc569",
   "metadata": {},
   "source": [
    "# Turning for Logistic regresssion"
   ]
  },
  {
   "cell_type": "code",
   "execution_count": null,
   "id": "6721234e",
   "metadata": {},
   "outputs": [],
   "source": [
    "# defining parameter range\n",
    "param_grid = {'C': [0.01, 0.1, 1, 10, 100],\n",
    "               'solver': ['lbfgs', 'sag', 'newton-cg']}\n",
    "\n",
    " \n",
    "gridlog = GridSearchCV(LogisticRegression(), param_grid, refit = True, verbose = 3)\n",
    "  \n",
    "# fitting the model for grid search\n",
    "gridlog.fit(X_train, Y_train)"
   ]
  },
  {
   "cell_type": "code",
   "execution_count": null,
   "id": "cb8ca655",
   "metadata": {},
   "outputs": [],
   "source": [
    "print(gridlog.best_params_)"
   ]
  },
  {
   "cell_type": "code",
   "execution_count": null,
   "id": "14a7187e",
   "metadata": {
    "scrolled": true
   },
   "outputs": [],
   "source": [
    "#Let's run our SVC again with the best parameters.\n",
    "log2 = LogisticRegression(C= 1,\n",
    "    solver= 'sag',)\n",
    "log2.fit(X_train, Y_train)\n",
    "pred_log2 = log2.predict(X_test)\n",
    "print(classification_report(Y_test, pred_log2))"
   ]
  },
  {
   "cell_type": "code",
   "execution_count": null,
   "id": "677ac19d",
   "metadata": {},
   "outputs": [],
   "source": [
    "#confusion matrix\n",
    "import matplotlib.pyplot as plt\n",
    "from sklearn.metrics import confusion_matrix, ConfusionMatrixDisplay\n",
    "cm = confusion_matrix(Y_test, pred_log2, labels=gridlog.classes_)\n",
    "disp = ConfusionMatrixDisplay(confusion_matrix=cm,display_labels=gridlog.classes_)\n",
    "fig = plt.figure(figsize=(5, 5))\n",
    "disp.plot(cmap=plt.cm.Blues) \n",
    "plt.grid(which='major')     #remove cell gridlines\n",
    "plt.gcf().set_size_inches(6, 6)   # Adjust the size of the plot\n",
    "plt.show()"
   ]
  },
  {
   "cell_type": "code",
   "execution_count": null,
   "id": "759081f4",
   "metadata": {},
   "outputs": [],
   "source": [
    "# Calculate the accuracy score for the Logistic regresssion model with the best parameters\n",
    "accuracy_log2 = accuracy_score(Y_test, pred_log2)\n",
    "print(\"Accuracy score for Logistic regresssion model with best parameters:\", accuracy_log2)"
   ]
  },
  {
   "cell_type": "code",
   "execution_count": null,
   "id": "f7df828c",
   "metadata": {},
   "outputs": [],
   "source": [
    "# Calculate and store the metrics\n",
    "accuracy = accuracy_score(Y_test,pred_log2)\n",
    "f1 = f1_score(Y_test, pred_log2)\n",
    "precision = precision_score(Y_test, pred_log2)\n",
    "recall = recall_score(Y_test, pred_log2)\n",
    "\n",
    "# Create a DataFrame to store the metrics\n",
    "metrics_df = pd.DataFrame({\n",
    "    'Metric': ['Accuracy', 'F1-Score', 'Precision', 'Recall'],\n",
    "    'Value': [accuracy, f1, precision, recall]\n",
    "})\n",
    "\n",
    "# Create a bar chart to visualize the metrics\n",
    "plt.figure(figsize=(8, 5))\n",
    "plt.bar(metrics_df['Metric'], metrics_df['Value'],color='skyblue')\n",
    "plt.xlabel('Metric')\n",
    "plt.ylabel('Value')\n",
    "plt.title('Evaluation Metrics for Logistic regresssion')\n",
    "plt.xticks(rotation=45)\n",
    "plt.tight_layout()\n",
    "plt.show()\n"
   ]
  },
  {
   "cell_type": "markdown",
   "id": "7f41e2c2",
   "metadata": {},
   "source": [
    "# KNN"
   ]
  },
  {
   "cell_type": "code",
   "execution_count": null,
   "id": "0e6c5dd4",
   "metadata": {},
   "outputs": [],
   "source": [
    "knn=KNeighborsClassifier()\n",
    "knn.fit(X_train, Y_train)"
   ]
  },
  {
   "cell_type": "code",
   "execution_count": null,
   "id": "cd0b5ce7",
   "metadata": {},
   "outputs": [],
   "source": [
    "pred_knn = knn.predict(X_test)\n",
    "pred_knn\n"
   ]
  },
  {
   "cell_type": "code",
   "execution_count": null,
   "id": "b1a6efff",
   "metadata": {},
   "outputs": [],
   "source": [
    "print(classification_report(Y_test, pred_knn))"
   ]
  },
  {
   "cell_type": "code",
   "execution_count": null,
   "id": "3f162df8",
   "metadata": {},
   "outputs": [],
   "source": [
    "# Calculate the accuracy score for the default KNN model\n",
    "accuracy_knn = accuracy_score(Y_test, pred_knn)\n",
    "print(\"Accuracy score for default KNN model:\", accuracy_knn)"
   ]
  },
  {
   "cell_type": "markdown",
   "id": "1b049b42",
   "metadata": {},
   "source": [
    "# Turning for K Nearest Neighbors"
   ]
  },
  {
   "cell_type": "code",
   "execution_count": null,
   "id": "7272b03e",
   "metadata": {},
   "outputs": [],
   "source": [
    "from sklearn.model_selection import GridSearchCV\n",
    "# defining parameter range\n",
    "param_grid = {'n_neighbors': [1,3,5,7,9,11,13,15,17,19],  #odd numbers because there are 2 classes in target coulmn\n",
    "              'weights': ['distance', 'uniform']}  \n",
    "gridKNN = GridSearchCV(KNeighborsClassifier(), param_grid, refit = True, verbose = 3)\n",
    "  \n",
    "# fitting the model for grid search\n",
    "gridKNN.fit(X_train, Y_train)"
   ]
  },
  {
   "cell_type": "code",
   "execution_count": null,
   "id": "6accaa03",
   "metadata": {},
   "outputs": [],
   "source": [
    "print(gridKNN.best_params_)"
   ]
  },
  {
   "cell_type": "code",
   "execution_count": null,
   "id": "4bd84798",
   "metadata": {},
   "outputs": [],
   "source": [
    "#Let's run our SVC again with the best parameters.\n",
    "knn2 = KNeighborsClassifier(n_neighbors = 13, weights= 'distance')\n",
    "knn2.fit(X_train, Y_train)\n",
    "pred_knn2 = knn2.predict(X_test)\n",
    "print(classification_report(Y_test, pred_knn2))"
   ]
  },
  {
   "cell_type": "code",
   "execution_count": null,
   "id": "8f77b2a6",
   "metadata": {},
   "outputs": [],
   "source": [
    "#confusion matrix\n",
    "import matplotlib.pyplot as plt\n",
    "from sklearn.metrics import confusion_matrix, ConfusionMatrixDisplay\n",
    "cm = confusion_matrix(Y_test, pred_knn2, labels=gridKNN.classes_)\n",
    "disp = ConfusionMatrixDisplay(confusion_matrix=cm,display_labels=gridKNN.classes_)\n",
    "fig = plt.figure(figsize=(5, 5))\n",
    "disp.plot(cmap=plt.cm.Blues) \n",
    "plt.grid(which='major')     #remove cell gridlines\n",
    "plt.gcf().set_size_inches(6, 6)   # Adjust the size of the plot\n",
    "plt.show()"
   ]
  },
  {
   "cell_type": "code",
   "execution_count": null,
   "id": "428c9822",
   "metadata": {},
   "outputs": [],
   "source": [
    "# Calculate the accuracy score for the KNN model with the best parameters\n",
    "accuracy_knn2 = accuracy_score(Y_test, pred_knn2)\n",
    "print(\"Accuracy score for KNN model with best parameters:\", accuracy_knn2)"
   ]
  },
  {
   "cell_type": "code",
   "execution_count": null,
   "id": "b9c43268",
   "metadata": {},
   "outputs": [],
   "source": [
    "# Calculate and store the metrics\n",
    "accuracy = accuracy_score(Y_test, pred_knn2)\n",
    "f1 = f1_score(Y_test, pred_knn2)\n",
    "precision = precision_score(Y_test, pred_knn2)\n",
    "recall = recall_score(Y_test, pred_knn2)\n",
    "\n",
    "# Create a DataFrame to store the metrics\n",
    "metrics_df = pd.DataFrame({\n",
    "    'Metric': ['Accuracy', 'F1-Score', 'Precision', 'Recall'],\n",
    "    'Value': [accuracy, f1, precision, recall]\n",
    "})\n",
    "\n",
    "# Create a bar chart to visualize the metrics\n",
    "plt.figure(figsize=(8, 5))\n",
    "plt.bar(metrics_df['Metric'], metrics_df['Value'],color='skyblue')\n",
    "plt.xlabel('Metric')\n",
    "plt.ylabel('Value')\n",
    "plt.title('Evaluation Metrics for K-Nearest Neighbors')\n",
    "plt.xticks(rotation=45)\n",
    "plt.tight_layout()\n",
    "plt.show()\n"
   ]
  },
  {
   "cell_type": "markdown",
   "id": "2877f628",
   "metadata": {},
   "source": [
    "# Gaussian Naive Bayes"
   ]
  },
  {
   "cell_type": "code",
   "execution_count": null,
   "id": "b2a7fcf2",
   "metadata": {},
   "outputs": [],
   "source": [
    "GNB=GaussianNB()\n",
    "GNB.fit(X_train, Y_train)"
   ]
  },
  {
   "cell_type": "code",
   "execution_count": null,
   "id": "b2fa7081",
   "metadata": {},
   "outputs": [],
   "source": [
    "pred_GNB = GNB.predict(X_test)\n",
    "pred_GNB"
   ]
  },
  {
   "cell_type": "code",
   "execution_count": null,
   "id": "644bf194",
   "metadata": {},
   "outputs": [],
   "source": [
    "print(classification_report(Y_test, pred_GNB))"
   ]
  },
  {
   "cell_type": "code",
   "execution_count": null,
   "id": "a1b919fb",
   "metadata": {},
   "outputs": [],
   "source": [
    "# Calculate the accuracy score for the default Gaussian Naive Bayes model\n",
    "accuracy_GNB = accuracy_score(Y_test, pred_GNB)\n",
    "print(\"Accuracy score for default Gaussian Naive Bayes model:\", accuracy_GNB)"
   ]
  },
  {
   "cell_type": "markdown",
   "id": "51c79719",
   "metadata": {},
   "source": [
    "# Turning for Gaussian Naive Bayes"
   ]
  },
  {
   "cell_type": "code",
   "execution_count": null,
   "id": "0d328863",
   "metadata": {},
   "outputs": [],
   "source": [
    "from sklearn.model_selection import GridSearchCV\n",
    "# defining parameter range\n",
    "param_grid = {'var_smoothing': np.logspace(0, -9, num=100)}\n",
    "\n",
    "gridGNB = GridSearchCV(GaussianNB(), param_grid, refit = True, verbose = 5)\n",
    "  \n",
    "# fitting the model for grid search\n",
    "gridGNB.fit(X_train, Y_train)\n"
   ]
  },
  {
   "cell_type": "code",
   "execution_count": null,
   "id": "ced40737",
   "metadata": {},
   "outputs": [],
   "source": [
    "print(gridGNB.best_params_)"
   ]
  },
  {
   "cell_type": "code",
   "execution_count": null,
   "id": "b5f3b733",
   "metadata": {},
   "outputs": [],
   "source": [
    "#Let's run our SVC again with the best parameters.\n",
    "GNB2 = GaussianNB(var_smoothing = 0.0657933224657568)\n",
    "GNB2.fit(X_train, Y_train)\n",
    "pred_GNB2 = GNB2.predict(X_test)\n",
    "print(classification_report(Y_test, pred_GNB2))"
   ]
  },
  {
   "cell_type": "code",
   "execution_count": null,
   "id": "9112ae86",
   "metadata": {},
   "outputs": [],
   "source": [
    "# Calculate the accuracy score for the Gaussian Naive Bayes model with the best parameters\n",
    "accuracy_GNB2 = accuracy_score(Y_test, pred_GNB2)\n",
    "print(\"Accuracy score for Gaussian Naive Bayes model with best parameters:\", accuracy_GNB2)"
   ]
  },
  {
   "cell_type": "code",
   "execution_count": null,
   "id": "382dcdba",
   "metadata": {},
   "outputs": [],
   "source": [
    "#confusion matrix\n",
    "import matplotlib.pyplot as plt\n",
    "from sklearn.metrics import confusion_matrix, ConfusionMatrixDisplay\n",
    "cm = confusion_matrix(Y_test, pred_GNB2, labels=gridGNB.classes_)\n",
    "disp = ConfusionMatrixDisplay(confusion_matrix=cm,display_labels=gridGNB.classes_)\n",
    "fig = plt.figure(figsize=(5, 5))\n",
    "disp.plot(cmap=plt.cm.Blues) \n",
    "plt.grid(which='major')     #remove cell gridlines\n",
    "plt.gcf().set_size_inches(6, 6)   # Adjust the size of the plot\n",
    "plt.show()"
   ]
  },
  {
   "cell_type": "code",
   "execution_count": null,
   "id": "d89020ea",
   "metadata": {},
   "outputs": [],
   "source": [
    "# Calculate and store the metrics\n",
    "accuracy = accuracy_score(Y_test, pred_GNB2)\n",
    "f1 = f1_score(Y_test, pred_GNB2)\n",
    "precision = precision_score(Y_test, pred_GNB2)\n",
    "recall = recall_score(Y_test, pred_GNB2)\n",
    "\n",
    "# Create a DataFrame to store the metrics\n",
    "metrics_df = pd.DataFrame({\n",
    "    'Metric': ['Accuracy', 'F1-Score', 'Precision', 'Recall'],\n",
    "    'Value': [accuracy, f1, precision, recall]\n",
    "})\n",
    "\n",
    "# Create a bar chart to visualize the metrics\n",
    "plt.figure(figsize=(8, 5))\n",
    "plt.bar(metrics_df['Metric'], metrics_df['Value'],color='skyblue')\n",
    "plt.xlabel('Metric')\n",
    "plt.ylabel('Value')\n",
    "plt.title('Evaluation Metrics for Gaussian Naive Bayes')\n",
    "plt.xticks(rotation=45)\n",
    "plt.tight_layout()\n",
    "plt.show()\n"
   ]
  },
  {
   "cell_type": "markdown",
   "id": "e38d001b",
   "metadata": {},
   "source": [
    "# Cross-validation using scikit"
   ]
  },
  {
   "cell_type": "code",
   "execution_count": null,
   "id": "fba2a232",
   "metadata": {},
   "outputs": [],
   "source": [
    "from sklearn.model_selection import KFold\n",
    "\n",
    "kf = KFold(n_splits=5, shuffle=True)\n",
    "\n",
    "for train_index, test_index in kf.split(X):\n",
    "    X_train, X_test = X[train_index], X[test_index]\n",
    "    Y_train, Y_test = Y[train_index], Y[test_index]\n",
    "    GNB2 = GaussianNB(var_smoothing = 1.2328467394420635e-09)\n",
    "    GNB2.fit(X_train, Y_train)\n",
    "    predictions = GNB2.predict(X_test)\n",
    "    print(classification_report(predictions, Y_test))"
   ]
  },
  {
   "cell_type": "code",
   "execution_count": null,
   "id": "377726d4",
   "metadata": {},
   "outputs": [],
   "source": [
    "# Calculate the accuracy score for the Gaussian Naive Bayes model with the best parameters\n",
    "accuracy_GNB3 = accuracy_score(Y_test, predictions)\n",
    "print(\"Accuracy score for Gaussian Naive Bayes model with best parameters:\", accuracy_GNB3)"
   ]
  },
  {
   "cell_type": "markdown",
   "id": "0cb6c60e",
   "metadata": {},
   "source": [
    "# Comparison Table"
   ]
  },
  {
   "cell_type": "code",
   "execution_count": null,
   "id": "9ed55b94",
   "metadata": {},
   "outputs": [],
   "source": [
    "print(\"       Model              :          Accuracy          :    After Tuning     \")\n",
    "print(\"-----------------------------------------------------------------------------\")\n",
    "print(\"Support Vector Machine    :  \",accuracy_svc,\"      :     \",accuracy_svc2  )\n",
    "print(\"Logistic regresssion      :  \",accuracy_log,\"      :     \",accuracy_log2  )\n",
    "print(\"k-nearest neighbours      :  \",accuracy_knn,\"      :     \",accuracy_knn2  )\n",
    "print(\"Gaussian Naive Bayes      :  \",accuracy_GNB,\"      :     \",accuracy_GNB3  )\n",
    "\n"
   ]
  },
  {
   "cell_type": "markdown",
   "id": "8012ae78",
   "metadata": {},
   "source": [
    "# Comparison graph- Before Tuning"
   ]
  },
  {
   "cell_type": "code",
   "execution_count": null,
   "id": "3dbe2c19",
   "metadata": {},
   "outputs": [],
   "source": [
    "fig = plt.figure() \n",
    "\n",
    "labels = [\"SVM\", \"LG\",\"KNN\",\"NB\"]\n",
    "accuracy_values = [accuracy_svc, accuracy_log, accuracy_knn,accuracy_GNB]\n",
    "r_accuracy_values = [round(v, 2) for v in accuracy_values]\n",
    "plt.bar(labels,r_accuracy_values,color='skyblue')\n",
    "\n",
    "for i,v in enumerate(r_accuracy_values):\n",
    "    plt.text(i, v/2, str(v), ha='center', color='azure', fontsize=20,fontweight='bold')\n",
    "\n",
    "plt.xlabel(\"Algorithm\")\n",
    "plt.ylabel(\"Accuracy\")\n",
    "plt.title(\"Accuracy of Different Algorithms\")\n",
    "plt.xticks(rotation=45)\n",
    "plt.show()"
   ]
  },
  {
   "cell_type": "markdown",
   "id": "3dbd6135",
   "metadata": {},
   "source": [
    "# Comparison graph- Before Tuning vs After Tuning "
   ]
  },
  {
   "cell_type": "code",
   "execution_count": null,
   "id": "c18c4691",
   "metadata": {},
   "outputs": [],
   "source": [
    "import matplotlib.pyplot as plt\n",
    "\n",
    "# Create lists of labels and accuracy values\n",
    "labels = [\"SVM\", \"LR\", \"KNN\", \"NB\"]\n",
    "accuracy_values = [accuracy_svc, accuracy_log, accuracy_knn,accuracy_GNB]\n",
    "accuracy_values2 = [accuracy_svc2, accuracy_log2, accuracy_knn2,accuracy_GNB3]\n",
    "\n",
    "# Define colors for the bars\n",
    "colors = [ 'darkkhaki','skyblue']\n",
    "\n",
    "# Create a horizontal bar chart with different widths for the bars\n",
    "bar_width = 0.3\n",
    "x = range(len(labels))  # Set the x-axis positions for the bars\n",
    "\n",
    "plt.figure(figsize=(10, 6))  # Adjust the figure size for better visibility\n",
    "# Round accuracy values \n",
    "r_accuracy_values = [round(v,2) for v in accuracy_values] \n",
    "r_accuracy_values2 = [round(v,2) for v in accuracy_values2]\n",
    "\n",
    "# Annotate text for first set of bars\n",
    "for i, v in enumerate(r_accuracy_values):\n",
    "    #x_val = v + 0.01\n",
    "    x_val = v/2\n",
    "    y_val = x[i]-0.1\n",
    "    plt.text(x_val, y_val, str(v), ha='center',color='azure', fontsize=12,fontweight='bold') \n",
    "shifted_x = [p + bar_width / 2 for p in x]\n",
    "\n",
    "# Annotate text for second set of bars  \n",
    "for i, v in enumerate(r_accuracy_values2):\n",
    "    x_val = v/2\n",
    "    y_val = shifted_x[i]\n",
    "    plt.text(x_val, y_val, str(v), ha='center', color='azure',fontsize=12, fontweight='bold')\n",
    "\n",
    "# Plot the first set of accuracy values with a bar width of 0.3\n",
    "plt.barh(x, accuracy_values, bar_width, label='Before Tuning', color=colors[0])\n",
    "\n",
    "\n",
    "# Shift the x-axis positions slightly to avoid overlapping bars\n",
    "shifted_x = [p + bar_width / 2 for p in x]\n",
    "\n",
    "# Plot the second set of accuracy values with a shifted x-axis and a bar width of 0.3\n",
    "plt.barh(shifted_x, accuracy_values2, bar_width, label='After Tuning', color=colors[1])\n",
    "\n",
    "# Set limits for the y-axis to include all labels and bars\n",
    "plt.ylim(-0.5, len(labels) - 0.5)\n",
    "\n",
    "# Add labels and title\n",
    "plt.xlabel(\"Accuracy\")\n",
    "plt.ylabel(\"Algorithm\")\n",
    "plt.title(\"Accuracy Comparison:Before Tuning vs After Tuning\")\n",
    "\n",
    "\n",
    "# Add label names to the y-axis\n",
    "plt.yticks(x, labels)\n",
    "\n",
    "# Add a legend to distinguish between the two datasets\n",
    "plt.legend(loc='upper left')\n",
    "\n",
    "# Show the plot\n",
    "plt.tight_layout()\n",
    "plt.show()\n"
   ]
  },
  {
   "cell_type": "markdown",
   "id": "d0d1c15c",
   "metadata": {},
   "source": [
    "# Predictive system"
   ]
  },
  {
   "cell_type": "code",
   "execution_count": null,
   "id": "80a5b96f",
   "metadata": {},
   "outputs": [],
   "source": [
    "scaler = StandardScaler()\n",
    "input_data = (13.05,19.31,82.61,527.2,0.0806,0.03789,0.000692,0.004167,0.1819,0.05501,0.404,1.214,2.595,32.96,0.007491,0.008593,0.000692,0.004167,0.0219,0.00299,14.23,22.25,90.24,624.1,0.1021,0.06191,0.001845,0.01111,0.2439,0.06289)\n",
    "#change the input_data to a numpy array\n",
    "input_data_as_numpy_array = np.asarray(input_data)\n",
    "\n",
    "# reshape the numpy array as we are predicting for one data point\n",
    "input_data_reshaped = input_data_as_numpy_array.reshape(1,-1)\n",
    "\n",
    "# standardizing the input data\n",
    "input_data_std = scaler.fit_transform(input_data_reshaped)\n",
    "\n",
    "prediction = knn2.predict(input_data_std)\n",
    "print(prediction)\n",
    "\n",
    "if(prediction[0] == 0):\n",
    "  print('The tumor is Benign')\n",
    "\n",
    "else:\n",
    "  print('The tumor is Malignant')"
   ]
  },
  {
   "cell_type": "markdown",
   "id": "cd800eb0",
   "metadata": {},
   "source": [
    "# Deep Learning techniques:"
   ]
  },
  {
   "cell_type": "code",
   "execution_count": null,
   "id": "25277ce5",
   "metadata": {},
   "outputs": [],
   "source": [
    "import tensorflow as tf \n",
    "tf.random.set_seed(3)\n",
    "from tensorflow import keras"
   ]
  },
  {
   "cell_type": "markdown",
   "id": "2d39a197",
   "metadata": {},
   "source": [
    "# Convolutional Neural Networks (CNNs):"
   ]
  },
  {
   "cell_type": "code",
   "execution_count": null,
   "id": "c10a36c7",
   "metadata": {},
   "outputs": [],
   "source": [
    "X =breast_cancer_data.drop(columns='target',axis=1)\n",
    "Y = breast_cancer_data['target']"
   ]
  },
  {
   "cell_type": "code",
   "execution_count": null,
   "id": "abebe1d1",
   "metadata": {},
   "outputs": [],
   "source": [
    "# Reshape the data into a 3D tensor for CNN input\n",
    "X = np.array(X).reshape(X.shape[0], X.shape[1], 1)"
   ]
  },
  {
   "cell_type": "code",
   "execution_count": null,
   "id": "0bfdc4ab",
   "metadata": {},
   "outputs": [],
   "source": [
    "# Split the data into training and test sets\n",
    "X_train, X_test, Y_train, Y_test = train_test_split(X, Y, test_size=0.3)"
   ]
  },
  {
   "cell_type": "code",
   "execution_count": null,
   "id": "e9b674b0",
   "metadata": {},
   "outputs": [],
   "source": [
    "# Normalize the features\n",
    "X_train = X_train.astype(\"float32\")\n",
    "X_test = X_test.astype(\"float32\")\n",
    "X_train = X_train / X_train.max()\n",
    "X_test = X_test / X_test.max()"
   ]
  },
  {
   "cell_type": "code",
   "execution_count": null,
   "id": "4e187fc8",
   "metadata": {},
   "outputs": [],
   "source": [
    "# Define the CNN model\n",
    "model = keras.Sequential()\n",
    "#model.add(BatchNormalization())\n",
    "#model.add(BatchNormalization())\n",
    "model.add(keras.layers.Conv1D(filters=32, kernel_size=3, activation=\"relu\", input_shape=(X_train.shape[1], 1)))\n",
    "model.add(keras.layers.MaxPooling1D(pool_size=2))\n",
    "model.add(keras.layers.Flatten())\n",
    "model.add(keras.layers.Dense(64, activation=\"relu\"))\n",
    "model.add(keras.layers.Dense(1, activation=\"sigmoid\"))"
   ]
  },
  {
   "cell_type": "code",
   "execution_count": null,
   "id": "b1db2d2a",
   "metadata": {},
   "outputs": [],
   "source": [
    "# Compile the model\n",
    "model.compile(loss=\"binary_crossentropy\", optimizer=\"adam\", metrics=[\"accuracy\"])"
   ]
  },
  {
   "cell_type": "code",
   "execution_count": null,
   "id": "7bd8845e",
   "metadata": {},
   "outputs": [],
   "source": [
    "# Train the model\n",
    "model.fit(X_train, Y_train, epochs=30, batch_size=32)"
   ]
  },
  {
   "cell_type": "markdown",
   "id": "3ef5aae8",
   "metadata": {},
   "source": [
    "# Recurrent Neural Networks (RNNs) Using LSTM Method"
   ]
  },
  {
   "cell_type": "code",
   "execution_count": null,
   "id": "951ae254",
   "metadata": {},
   "outputs": [],
   "source": [
    "X =breast_cancer_data.drop(columns='target',axis=1)\n",
    "Y = breast_cancer_data['target']"
   ]
  },
  {
   "cell_type": "code",
   "execution_count": null,
   "id": "28f8bd71",
   "metadata": {},
   "outputs": [],
   "source": [
    "X_train, X_test, Y_train, Y_test = train_test_split(X, Y, test_size=0.3, random_state=2)"
   ]
  },
  {
   "cell_type": "code",
   "execution_count": null,
   "id": "cb9fb642",
   "metadata": {},
   "outputs": [],
   "source": [
    "scaler = StandardScaler()\n"
   ]
  },
  {
   "cell_type": "code",
   "execution_count": null,
   "id": "f9ccb849",
   "metadata": {},
   "outputs": [],
   "source": [
    "X_train_std = scaler.fit_transform(X_train)\n",
    "\n",
    "X_test_std = scaler.transform(X_test)"
   ]
  },
  {
   "cell_type": "code",
   "execution_count": null,
   "id": "76266cef",
   "metadata": {},
   "outputs": [],
   "source": []
  },
  {
   "cell_type": "code",
   "execution_count": null,
   "id": "ff47c5df",
   "metadata": {},
   "outputs": [],
   "source": [
    "# Define the RNN model\n",
    "model = keras.Sequential()\n",
    "#model.add(keras.layers.Embedding(input_dim=1000, output_dim=64))\n",
    "model.add(keras.layers.LSTM(units=64, return_sequences=True, input_shape=(X_train.shape[1], 1)))\n",
    "model.add(keras.layers.LSTM(units=32))\n",
    "model.add(keras.layers.Dense(128, activation='relu'),)\n",
    "model.add(keras.layers.Dense(1, activation=\"sigmoid\"))"
   ]
  },
  {
   "cell_type": "code",
   "execution_count": null,
   "id": "85de1d68",
   "metadata": {},
   "outputs": [],
   "source": [
    "# Compile the model\n",
    "model.compile(loss=\"binary_crossentropy\", optimizer=\"adam\", metrics=[\"accuracy\"])"
   ]
  },
  {
   "cell_type": "code",
   "execution_count": null,
   "id": "2a0054f5",
   "metadata": {},
   "outputs": [],
   "source": [
    "# Train the model\n",
    "history = model.fit(X_train_std, Y_train, validation_split=0.1, epochs=30)"
   ]
  },
  {
   "cell_type": "markdown",
   "id": "1d6038cb",
   "metadata": {},
   "source": [
    "# Multilayer perceptron (MLP)Model"
   ]
  },
  {
   "cell_type": "code",
   "execution_count": null,
   "id": "73537153",
   "metadata": {},
   "outputs": [],
   "source": [
    "X =breast_cancer_data.drop(columns='target',axis=1)\n",
    "Y = breast_cancer_data['target']"
   ]
  },
  {
   "cell_type": "code",
   "execution_count": null,
   "id": "bc648114",
   "metadata": {},
   "outputs": [],
   "source": [
    "X_train, X_test, Y_train, Y_test = train_test_split(X, Y, test_size=0.2, random_state=2)"
   ]
  },
  {
   "cell_type": "code",
   "execution_count": null,
   "id": "dd6806e4",
   "metadata": {},
   "outputs": [],
   "source": [
    "print(X.shape, X_train.shape, X_test.shape)"
   ]
  },
  {
   "cell_type": "code",
   "execution_count": null,
   "id": "194d2ba6",
   "metadata": {},
   "outputs": [],
   "source": [
    "scaler = StandardScaler()"
   ]
  },
  {
   "cell_type": "code",
   "execution_count": null,
   "id": "28a6598e",
   "metadata": {},
   "outputs": [],
   "source": [
    "\n",
    "X_train_std = scaler.fit_transform(X_train)\n",
    "\n",
    "X_test_std = scaler.transform(X_test)\n"
   ]
  },
  {
   "cell_type": "code",
   "execution_count": null,
   "id": "c65da68d",
   "metadata": {},
   "outputs": [],
   "source": [
    "print(X.shape, X_train.shape, X_test.shape)"
   ]
  },
  {
   "cell_type": "code",
   "execution_count": null,
   "id": "02f2ae32",
   "metadata": {},
   "outputs": [],
   "source": [
    "# setting up the layers of Neural Network\n",
    "\n",
    "model = keras.Sequential([\n",
    "                          keras.layers.Flatten(input_shape=(30,)),\n",
    "                          keras.layers.Dense(20, activation='relu'),\n",
    "                          keras.layers.Dense(2, activation='sigmoid')\n",
    "                            \n",
    "])"
   ]
  },
  {
   "cell_type": "code",
   "execution_count": null,
   "id": "75e57718",
   "metadata": {},
   "outputs": [],
   "source": [
    "# compiling the Neural Network\n",
    "\n",
    "model.compile(optimizer='adam',\n",
    "              loss='sparse_categorical_crossentropy',\n",
    "              metrics=['accuracy'])"
   ]
  },
  {
   "cell_type": "code",
   "execution_count": null,
   "id": "92348828",
   "metadata": {},
   "outputs": [],
   "source": [
    " # training the Meural Network\n",
    "\n",
    "history = model.fit(X_train_std, Y_train, validation_split=0.1, epochs=30)"
   ]
  },
  {
   "cell_type": "code",
   "execution_count": null,
   "id": "6073b9c7",
   "metadata": {},
   "outputs": [],
   "source": [
    "from sklearn.metrics import roc_curve, roc_auc_score\n",
    "import matplotlib.pyplot as plt\n",
    "fig, ax = plt.subplots(figsize=(5, 4))\n",
    "y_proba = model.predict(X_test)[:, 0]\n",
    "# Calculate the ROC curve\n",
    "fpr, tpr, thresholds = roc_curve(Y_test, y_proba)\n",
    "\n",
    "# Calculate the AUC\n",
    "auc = roc_auc_score(Y_test, y_proba)\n",
    "\n",
    "# Plot the ROC curve\n",
    "plt.plot(fpr, tpr, label='(AUC = %0.2f)' % auc)\n",
    "\n",
    "# Print the AUC\n",
    "print('AUC:', auc)\n",
    "\n",
    "# Show the plot\n",
    "plt.xlabel('False Positive Rate')\n",
    "plt.ylabel('True Positive Rate')\n",
    "plt.title('ROC Curve')\n",
    "plt.legend()\n",
    "plt.show()\n",
    "print(\"\")\n",
    "print('False Positive Rates:', fpr)\n",
    "print(\"xxxxxxxxxxxxxxxxxxxxxxxxxxxxxxxxxxxxxxxxxxxxxxxxxxxxxxxx\")\n",
    "print('True Positive Rates:', tpr)"
   ]
  },
  {
   "cell_type": "markdown",
   "id": "70ed2bcd",
   "metadata": {},
   "source": [
    "# Comparison graph "
   ]
  },
  {
   "cell_type": "code",
   "execution_count": null,
   "id": "510e3dbe",
   "metadata": {
    "scrolled": false
   },
   "outputs": [],
   "source": [
    "fig = plt.figure() \n",
    "\n",
    "labels = [\"CNN\", \"RNN\",\"MLP\"]\n",
    "accuracy_values = [90.83, 96.37, 99.27]\n",
    "r_accuracy_values = [round(v, 2) for v in accuracy_values]\n",
    "plt.bar(labels,r_accuracy_values,color='skyblue')\n",
    "\n",
    "for i,v in enumerate(r_accuracy_values):\n",
    "    plt.text(i, v/2, str(v), ha='center', color='azure', fontsize=20,fontweight='bold')\n",
    "\n",
    "plt.xlabel(\"Algorithm\")\n",
    "plt.ylabel(\"Accuracy\")\n",
    "plt.title(\"Accuracy of Deep neural networks\")\n",
    "plt.xticks(rotation=45)\n",
    "plt.show()"
   ]
  },
  {
   "cell_type": "markdown",
   "id": "834266ce",
   "metadata": {},
   "source": [
    "# Comparison Graph between ML and Deep learning"
   ]
  },
  {
   "cell_type": "code",
   "execution_count": null,
   "id": "142c4160",
   "metadata": {},
   "outputs": [],
   "source": [
    "\n",
    "fig = plt.figure(figsize=(13,8))\n",
    "labels = [\"SVM\", \"LR\", \"KNN\", \"NB\",\"CNN\", \"RNN\",\"MLP\"]\n",
    "accuracy_values = [accuracy_svc2*100, accuracy_log2*100, accuracy_knn2*100,accuracy_GNB3*100,90.83, 96.37, 99.27]\n",
    "r_accuracy_values = [round(v, 2) for v in accuracy_values]\n",
    "\n",
    "# Define a list of colors for each bar\n",
    "colors = ['skyblue'] * len(labels)\n",
    "colors[-3:] = ['darkkhaki','darkkhaki','darkkhaki'] # Change the last 3 colors to red, green, and blue\n",
    "\n",
    "# Plot the bars with the specified colors\n",
    "plt.bar(labels, r_accuracy_values, color=colors)\n",
    "\n",
    "# Annotate the bars with their accuracy values\n",
    "for i, v in enumerate(r_accuracy_values):\n",
    "    plt.text(i, v/2, str(v), ha='center', color='azure', fontsize=20, fontweight='bold')\n",
    "\n",
    "plt.xlabel(\"Algorithm\")\n",
    "plt.ylabel(\"Accuracy\")\n",
    "plt.title(\"Accuracy comparison of all models\")\n",
    "plt.xticks(rotation=45)\n",
    "plt.show()"
   ]
  }
 ],
 "metadata": {
  "kernelspec": {
   "display_name": "Python 3 (ipykernel)",
   "language": "python",
   "name": "python3"
  },
  "language_info": {
   "codemirror_mode": {
    "name": "ipython",
    "version": 3
   },
   "file_extension": ".py",
   "mimetype": "text/x-python",
   "name": "python",
   "nbconvert_exporter": "python",
   "pygments_lexer": "ipython3",
   "version": "3.9.13"
  }
 },
 "nbformat": 4,
 "nbformat_minor": 5
}
